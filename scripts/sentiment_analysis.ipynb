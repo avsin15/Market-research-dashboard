{
 "cells": [
  {
   "cell_type": "code",
   "execution_count": 5,
   "id": "3d48caf9-47fa-4a19-8393-b8485ea0dd5a",
   "metadata": {},
   "outputs": [
    {
     "name": "stdout",
     "output_type": "stream",
     "text": [
      "✅ Loaded 5000 reviews with topics for sentiment analysis\n",
      "🔄 Running sentiment analysis...\n"
     ]
    },
    {
     "name": "stderr",
     "output_type": "stream",
     "text": [
      "Device set to use mps:0\n"
     ]
    },
    {
     "name": "stdout",
     "output_type": "stream",
     "text": [
      "💾 Saved sentiment results → data/sample/reviews_with_sentiment.csv\n"
     ]
    }
   ],
   "source": [
    "\"\"\"\n",
    "Step 3: Sentiment Analysis Script\n",
    "--------------------------------\n",
    "- Loads topic-annotated dataset from Step 2\n",
    "- Uses Hugging Face sentiment analysis pipeline\n",
    "- Saves results with an extra `sentiment` column\n",
    "\n",
    "Usage:\n",
    "    python scripts/sentiment_analysis.py\n",
    "\"\"\"\n",
    "\n",
    "import os\n",
    "import pandas as pd\n",
    "from transformers import pipeline\n",
    "\n",
    "# Paths\n",
    "TOPIC_FILE = \"data/sample/reviews_with_topics.csv\"\n",
    "SENTIMENT_OUTPUT_FILE = \"data/sample/reviews_with_sentiment.csv\"\n",
    "\n",
    "\n",
    "def analyze_sentiment(texts, model_name=\"distilbert-base-uncased-finetuned-sst-2-english\"):\n",
    "    \"\"\"\n",
    "    Run sentiment analysis on a list of texts using a Hugging Face model.\n",
    "    Returns a list of labels (e.g., 'POSITIVE', 'NEGATIVE', 'NEUTRAL').\n",
    "    \"\"\"\n",
    "    classifier = pipeline(\"sentiment-analysis\", model=model_name)\n",
    "    results = classifier(texts, truncation=True, batch_size=32)\n",
    "\n",
    "    return [r[\"label\"] for r in results]\n",
    "\n",
    "\n",
    "def main():\n",
    "    # Load dataset with topics\n",
    "    if not os.path.exists(TOPIC_FILE):\n",
    "        raise FileNotFoundError(f\"❌ Missing file: {TOPIC_FILE}. Run topic_modeling.py first.\")\n",
    "\n",
    "    df = pd.read_csv(TOPIC_FILE)\n",
    "    print(f\"✅ Loaded {len(df)} reviews with topics for sentiment analysis\")\n",
    "\n",
    "    # Run sentiment analysis\n",
    "    print(\"🔄 Running sentiment analysis...\")\n",
    "    df[\"sentiment\"] = analyze_sentiment(df[\"review_text\"].astype(str).tolist())\n",
    "\n",
    "    # Save augmented dataset\n",
    "    os.makedirs(os.path.dirname(SENTIMENT_OUTPUT_FILE), exist_ok=True)\n",
    "    df.to_csv(SENTIMENT_OUTPUT_FILE, index=False)\n",
    "    print(f\"💾 Saved sentiment results → {SENTIMENT_OUTPUT_FILE}\")\n",
    "\n",
    "\n",
    "if __name__ == \"__main__\":\n",
    "    main()\n"
   ]
  },
  {
   "cell_type": "code",
   "execution_count": null,
   "id": "b5c00eb6-167b-4246-8e4c-810cd5dc5531",
   "metadata": {},
   "outputs": [],
   "source": []
  }
 ],
 "metadata": {
  "kernelspec": {
   "display_name": "Python 3 (ipykernel)",
   "language": "python",
   "name": "python3"
  },
  "language_info": {
   "codemirror_mode": {
    "name": "ipython",
    "version": 3
   },
   "file_extension": ".py",
   "mimetype": "text/x-python",
   "name": "python",
   "nbconvert_exporter": "python",
   "pygments_lexer": "ipython3",
   "version": "3.13.7"
  }
 },
 "nbformat": 4,
 "nbformat_minor": 5
}
