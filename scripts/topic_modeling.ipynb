{
 "cells": [
  {
   "cell_type": "code",
   "execution_count": 2,
   "id": "d7752cf3-690c-4e58-bf6e-a39130182b74",
   "metadata": {},
   "outputs": [
    {
     "name": "stdout",
     "output_type": "stream",
     "text": [
      "✅ Loaded 5000 reviews for topic modeling\n",
      "🔄 Generating embeddings...\n"
     ]
    },
    {
     "name": "stderr",
     "output_type": "stream",
     "text": [
      "Batches: 100%|████████████████████████████████| 157/157 [00:22<00:00,  6.99it/s]\n",
      "2025-09-28 16:55:59,946 - BERTopic - Dimensionality - Fitting the dimensionality reduction algorithm\n"
     ]
    },
    {
     "name": "stdout",
     "output_type": "stream",
     "text": [
      "🔄 Running BERTopic clustering...\n"
     ]
    },
    {
     "name": "stderr",
     "output_type": "stream",
     "text": [
      "2025-09-28 16:56:11,522 - BERTopic - Dimensionality - Completed ✓\n",
      "2025-09-28 16:56:11,524 - BERTopic - Cluster - Start clustering the reduced embeddings\n",
      "2025-09-28 16:56:11,645 - BERTopic - Cluster - Completed ✓\n",
      "2025-09-28 16:56:11,652 - BERTopic - Representation - Fine-tuning topics using representation models.\n",
      "2025-09-28 16:56:12,030 - BERTopic - Representation - Completed ✓\n",
      "2025-09-28 16:56:12,390 - BERTopic - WARNING: When you use `pickle` to save/load a BERTopic model,please make sure that the environments in which you saveand load the model are **exactly** the same. The version of BERTopic,its dependencies, and python need to remain the same.\n"
     ]
    },
    {
     "name": "stdout",
     "output_type": "stream",
     "text": [
      "✅ Assigned topics to 5000 reviews\n",
      "💾 Saved topic results → data/sample/reviews_with_topics.csv\n",
      "💾 Saved BERTopic model → data/sample/topic_model\n"
     ]
    }
   ],
   "source": [
    "\"\"\"\n",
    "Step 2: Topic Modeling Script\n",
    "-----------------------------\n",
    "- Loads cleaned dataset from Step 1\n",
    "- Generates embeddings using SentenceTransformers\n",
    "- Runs BERTopic to cluster reviews into topics\n",
    "- Saves results into data/processed/\n",
    "\n",
    "Usage:\n",
    "    python scripts/topic_modeling.py\n",
    "\"\"\"\n",
    "\n",
    "import os\n",
    "import pandas as pd\n",
    "\n",
    "# Try importing sentence-transformers, fall back to plain transformers if unavailable\n",
    "try:\n",
    "    from sentence_transformers import SentenceTransformer\n",
    "    USE_ST = True\n",
    "except ImportError:\n",
    "    print(\"⚠️ sentence-transformers not installed. Falling back to transformers embedding.\")\n",
    "    from transformers import AutoTokenizer, AutoModel\n",
    "    import torch\n",
    "    import numpy as np\n",
    "    USE_ST = False\n",
    "\n",
    "from bertopic import BERTopic\n",
    "\n",
    "# Paths\n",
    "CLEANED_FILE = \"sample_reviews_corrected.csv\"\n",
    "TOPIC_OUTPUT_FILE = \"data/sample/reviews_with_topics.csv\"\n",
    "MODEL_OUTPUT_DIR = \"data/sample/topic_model\"\n",
    "\n",
    "def get_embeddings(texts, model_name=\"all-MiniLM-L6-v2\"):\n",
    "    \"\"\"\n",
    "    Generate embeddings for texts.\n",
    "    - If sentence-transformers is available, use it.\n",
    "    - Otherwise, use transformers + mean pooling.\n",
    "    \"\"\"\n",
    "    if USE_ST:\n",
    "        model = SentenceTransformer(model_name)\n",
    "        embeddings = model.encode(texts, show_progress_bar=True, batch_size=32)\n",
    "        return embeddings\n",
    "\n",
    "    # Fallback: transformers + mean pooling\n",
    "    tokenizer = AutoTokenizer.from_pretrained(model_name)\n",
    "    model = AutoModel.from_pretrained(model_name)\n",
    "\n",
    "    def mean_pooling(model_output, attention_mask):\n",
    "        token_embeddings = model_output.last_hidden_state\n",
    "        mask_expanded = attention_mask.unsqueeze(-1).expand(token_embeddings.size()).float()\n",
    "        return (token_embeddings * mask_expanded).sum(1) / mask_expanded.sum(1).clamp(min=1e-9)\n",
    "\n",
    "    all_embeds = []\n",
    "    for i in range(0, len(texts), 32):\n",
    "        batch = texts[i:i+32]\n",
    "        inputs = tokenizer(batch, padding=True, truncation=True, return_tensors=\"pt\")\n",
    "        with torch.no_grad():\n",
    "            outputs = model(**inputs)\n",
    "        embeddings = mean_pooling(outputs, inputs[\"attention_mask\"])\n",
    "        embeddings = torch.nn.functional.normalize(embeddings, p=2, dim=1)\n",
    "        all_embeds.append(embeddings.cpu().numpy())\n",
    "    return np.vstack(all_embeds)\n",
    "\n",
    "\n",
    "def main():\n",
    "    # Load cleaned data\n",
    "    if not os.path.exists(CLEANED_FILE):\n",
    "        raise FileNotFoundError(f\"❌ Missing file: {CLEANED_FILE}. Run preprocessing first.\")\n",
    "\n",
    "    df = pd.read_csv(CLEANED_FILE)\n",
    "    print(f\"✅ Loaded {len(df)} reviews for topic modeling\")\n",
    "\n",
    "    # Generate embeddings\n",
    "    texts = df[\"review_text\"].astype(str).tolist()\n",
    "    print(\"🔄 Generating embeddings...\")\n",
    "    embeddings = get_embeddings(texts)\n",
    "\n",
    "    # Run BERTopic\n",
    "    print(\"🔄 Running BERTopic clustering...\")\n",
    "    topic_model = BERTopic(verbose=True)\n",
    "    topics, probs = topic_model.fit_transform(texts, embeddings)\n",
    "\n",
    "    df[\"topic\"] = topics\n",
    "    print(f\"✅ Assigned topics to {len(df)} reviews\")\n",
    "\n",
    "    # Save augmented dataset\n",
    "    os.makedirs(os.path.dirname(TOPIC_OUTPUT_FILE), exist_ok=True)\n",
    "    df.to_csv(TOPIC_OUTPUT_FILE, index=False)\n",
    "    print(f\"💾 Saved topic results → {TOPIC_OUTPUT_FILE}\")\n",
    "\n",
    "    # Save BERTopic model for reuse\n",
    "    topic_model.save(MODEL_OUTPUT_DIR)\n",
    "    print(f\"💾 Saved BERTopic model → {MODEL_OUTPUT_DIR}\")\n",
    "\n",
    "\n",
    "if __name__ == \"__main__\":\n",
    "    main()\n"
   ]
  },
  {
   "cell_type": "code",
   "execution_count": null,
   "id": "d222c9f8-4852-41e1-a1c8-c8eadda07761",
   "metadata": {},
   "outputs": [],
   "source": []
  }
 ],
 "metadata": {
  "kernelspec": {
   "display_name": "Python 3 (ipykernel)",
   "language": "python",
   "name": "python3"
  },
  "language_info": {
   "codemirror_mode": {
    "name": "ipython",
    "version": 3
   },
   "file_extension": ".py",
   "mimetype": "text/x-python",
   "name": "python",
   "nbconvert_exporter": "python",
   "pygments_lexer": "ipython3",
   "version": "3.13.7"
  }
 },
 "nbformat": 4,
 "nbformat_minor": 5
}
